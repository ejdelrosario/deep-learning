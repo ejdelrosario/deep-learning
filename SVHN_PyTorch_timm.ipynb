{
  "nbformat": 4,
  "nbformat_minor": 0,
  "metadata": {
    "colab": {
      "name": "SVHN-PyTorch-timm",
      "provenance": [],
      "collapsed_sections": [],
      "authorship_tag": "ABX9TyNGlMvuBifXI6V4cgGnfHIU",
      "include_colab_link": true
    },
    "kernelspec": {
      "name": "python3",
      "display_name": "Python 3"
    },
    "language_info": {
      "name": "python"
    },
    "accelerator": "GPU"
  },
  "cells": [
    {
      "cell_type": "markdown",
      "metadata": {
        "id": "view-in-github",
        "colab_type": "text"
      },
      "source": [
        "<a href=\"https://colab.research.google.com/github/ejdelrosario/deep-learning/blob/main/SVHN_PyTorch_timm.ipynb\" target=\"_parent\"><img src=\"https://colab.research.google.com/assets/colab-badge.svg\" alt=\"Open In Colab\"/></a>"
      ]
    },
    {
      "cell_type": "markdown",
      "metadata": {
        "id": "lvNXjDdylCC1"
      },
      "source": [
        "# **Training Three Models on the SVHN Core Dataset using the PyTorch `timm` Module**\n",
        "\n",
        "\n"
      ]
    },
    {
      "cell_type": "markdown",
      "metadata": {
        "id": "32SzaMjQxoCf"
      },
      "source": [
        "In this notebook, three select models -- `densenet121`, `densenet169`, and `densenet264` -- from the `timm` module, were trained on the Street View House Numbers (SVHN) dataset (http://ufldl.stanford.edu/housenumbers/)."
      ]
    },
    {
      "cell_type": "code",
      "metadata": {
        "colab": {
          "base_uri": "https://localhost:8080/"
        },
        "id": "mG0mg2AxKJP9",
        "outputId": "caafcbec-f9b2-457c-f9c7-db9c14eb72f0"
      },
      "source": [
        "!pip install timm\n",
        "import timm\n",
        "\n",
        "import torch\n",
        "import torch.nn as nn\n",
        "import torch.optim as optim\n",
        "\n",
        "import torchvision\n",
        "from torchvision import datasets, transforms\n",
        "\n",
        "device = torch.device(\"cuda:0\" if torch.cuda.is_available() else \"cpu\")"
      ],
      "execution_count": 1,
      "outputs": [
        {
          "output_type": "stream",
          "text": [
            "Requirement already satisfied: timm in /usr/local/lib/python3.7/dist-packages (0.4.5)\n",
            "Requirement already satisfied: torchvision in /usr/local/lib/python3.7/dist-packages (from timm) (0.9.1+cu101)\n",
            "Requirement already satisfied: torch>=1.4 in /usr/local/lib/python3.7/dist-packages (from timm) (1.8.1+cu101)\n",
            "Requirement already satisfied: pillow>=4.1.1 in /usr/local/lib/python3.7/dist-packages (from torchvision->timm) (7.1.2)\n",
            "Requirement already satisfied: numpy in /usr/local/lib/python3.7/dist-packages (from torchvision->timm) (1.19.5)\n",
            "Requirement already satisfied: typing-extensions in /usr/local/lib/python3.7/dist-packages (from torch>=1.4->timm) (3.7.4.3)\n"
          ],
          "name": "stdout"
        }
      ]
    },
    {
      "cell_type": "code",
      "metadata": {
        "colab": {
          "base_uri": "https://localhost:8080/"
        },
        "id": "uSHN2r5fK4bd",
        "outputId": "836ebe03-d0b6-4267-bb60-2d18d5464c9e"
      },
      "source": [
        "train_set = datasets.SVHN(root = 'data/',\n",
        "                          split = 'train',\n",
        "                          download = True,\n",
        "                          transform = transforms.ToTensor())\n",
        "\n",
        "test_set = datasets.SVHN(root = 'data/',\n",
        "                        split = 'test',\n",
        "                        download = True,\n",
        "                        transform = transforms.ToTensor())\n",
        "\n",
        "batch_size = 256\n",
        "\n",
        "train_loader = torch.utils.data.DataLoader(train_set,\n",
        "                                           batch_size = batch_size,\n",
        "                                           shuffle = True,\n",
        "                                           num_workers = 2)\n",
        "\n",
        "test_loader = torch.utils.data.DataLoader(test_set,\n",
        "                                          batch_size = batch_size,\n",
        "                                          shuffle = True,\n",
        "                                          num_workers = 2)"
      ],
      "execution_count": 2,
      "outputs": [
        {
          "output_type": "stream",
          "text": [
            "Using downloaded and verified file: data/train_32x32.mat\n",
            "Using downloaded and verified file: data/test_32x32.mat\n"
          ],
          "name": "stdout"
        }
      ]
    },
    {
      "cell_type": "code",
      "metadata": {
        "id": "ps1umfkhRie8"
      },
      "source": [
        "def train_loop(dataloader, model, loss_fn, optimizer):\n",
        "    size = len(dataloader.dataset)\n",
        "    model.train()\n",
        "    for batch, (X, y) in enumerate(dataloader):\n",
        "        \n",
        "        X = X.to(device)\n",
        "        y = y.to(device)\n",
        "        # Compute prediction and loss\n",
        "        \n",
        "        with torch.set_grad_enabled(True):\n",
        "          pred = model(X)\n",
        "          pred_max = torch.max(pred, 1)[1]\n",
        "          loss = loss_fn(pred, y)\n",
        "\n",
        "          # Backpropagation\n",
        "          optimizer.zero_grad()\n",
        "          loss.backward()\n",
        "          optimizer.step()\n",
        "\n",
        "        if batch % 50 == 0:\n",
        "            loss, current = loss.item(), batch * len(X)\n",
        "            print(f\"loss: {loss:>7f}  [{current:>5d}/{size:>5d}]\")\n",
        "    return model"
      ],
      "execution_count": 3,
      "outputs": []
    },
    {
      "cell_type": "code",
      "metadata": {
        "id": "9-t9t8dORjMv"
      },
      "source": [
        "def test_loop(dataloader, model, loss_fn):\n",
        "    size = len(dataloader.dataset)\n",
        "    test_loss, correct = 0, 0\n",
        "    model.eval()\n",
        "    with torch.no_grad():\n",
        "        for X, y in dataloader:\n",
        "            X = X.to(device)\n",
        "            y = y.to(device)\n",
        "            pred = model(X)\n",
        "            test_loss += loss_fn(pred, y).item()\n",
        "            correct += (pred.argmax(1) == y).type(torch.float).sum().item()\n",
        "\n",
        "    test_loss /= size\n",
        "    correct /= size\n",
        "    print(f\"Test Error: \\n Accuracy: {(100*correct):>0.1f}%, Avg loss: {test_loss:>8f} \\n\")\n",
        "    return model, [correct], [test_loss]"
      ],
      "execution_count": 4,
      "outputs": []
    },
    {
      "cell_type": "markdown",
      "metadata": {
        "id": "1Mey4XNQSq4t"
      },
      "source": [
        "## **[Model 1] densenet121**\n",
        "\n"
      ]
    },
    {
      "cell_type": "code",
      "metadata": {
        "colab": {
          "base_uri": "https://localhost:8080/"
        },
        "id": "iJkAhQI4OQ6R",
        "outputId": "0fe1008b-3cda-472e-c89e-56ea5270e4cc"
      },
      "source": [
        "model1 = timm.create_model('densenet121')\n",
        "in_features = model1.classifier.in_features\n",
        "num_class = 10\n",
        "model1.classifier = nn.Sequential(nn.Linear(in_features, 512, bias = True),\n",
        "                                  nn.Linear(512, num_class, bias = True),\n",
        "                                  nn.LogSoftmax(dim=1))\n",
        "\n",
        "model1 = model1.to(device)\n",
        "loss_fn = nn.NLLLoss()\n",
        "optimizer = optim.Adam(model1.parameters(), lr = 0.001)\n",
        "\n",
        "accuracy1 = []\n",
        "loss1 = []\n",
        "\n",
        "epochs = 10\n",
        "\n",
        "for t in range(epochs):\n",
        "  print(f\"Epoch {t+1}\\n-------------------------------\")\n",
        "  model1 = train_loop(train_loader, model1, loss_fn, optimizer)\n",
        "  model1, correct, test_loss = test_loop(test_loader, model1, loss_fn)\n",
        "  accuracy1.append(correct)\n",
        "  loss1.append(test_loss)\n",
        "print(\"Done!\")"
      ],
      "execution_count": 5,
      "outputs": [
        {
          "output_type": "stream",
          "text": [
            "Epoch 1\n",
            "-------------------------------\n",
            "loss: 2.312068  [    0/73257]\n",
            "loss: 1.852007  [12800/73257]\n",
            "loss: 0.983982  [25600/73257]\n",
            "loss: 0.724891  [38400/73257]\n",
            "loss: 0.587045  [51200/73257]\n",
            "loss: 0.665011  [64000/73257]\n",
            "Test Error: \n",
            " Accuracy: 80.2%, Avg loss: 0.002478 \n",
            "\n",
            "Epoch 2\n",
            "-------------------------------\n",
            "loss: 0.553240  [    0/73257]\n",
            "loss: 0.434433  [12800/73257]\n",
            "loss: 0.454799  [25600/73257]\n",
            "loss: 0.324113  [38400/73257]\n",
            "loss: 0.361226  [51200/73257]\n",
            "loss: 0.221620  [64000/73257]\n",
            "Test Error: \n",
            " Accuracy: 87.4%, Avg loss: 0.001588 \n",
            "\n",
            "Epoch 3\n",
            "-------------------------------\n",
            "loss: 0.314618  [    0/73257]\n",
            "loss: 0.372058  [12800/73257]\n",
            "loss: 0.331662  [25600/73257]\n",
            "loss: 0.301544  [38400/73257]\n",
            "loss: 0.281987  [51200/73257]\n",
            "loss: 0.268058  [64000/73257]\n",
            "Test Error: \n",
            " Accuracy: 87.6%, Avg loss: 0.001538 \n",
            "\n",
            "Epoch 4\n",
            "-------------------------------\n",
            "loss: 0.234127  [    0/73257]\n",
            "loss: 0.270979  [12800/73257]\n",
            "loss: 0.273338  [25600/73257]\n",
            "loss: 0.320654  [38400/73257]\n",
            "loss: 0.359589  [51200/73257]\n",
            "loss: 0.390192  [64000/73257]\n",
            "Test Error: \n",
            " Accuracy: 87.9%, Avg loss: 0.001552 \n",
            "\n",
            "Epoch 5\n",
            "-------------------------------\n",
            "loss: 0.329783  [    0/73257]\n",
            "loss: 0.214175  [12800/73257]\n",
            "loss: 0.286573  [25600/73257]\n",
            "loss: 0.295189  [38400/73257]\n",
            "loss: 0.298904  [51200/73257]\n",
            "loss: 0.222310  [64000/73257]\n",
            "Test Error: \n",
            " Accuracy: 90.4%, Avg loss: 0.001276 \n",
            "\n",
            "Epoch 6\n",
            "-------------------------------\n",
            "loss: 0.210682  [    0/73257]\n",
            "loss: 0.214367  [12800/73257]\n",
            "loss: 0.301410  [25600/73257]\n",
            "loss: 0.200179  [38400/73257]\n",
            "loss: 0.198316  [51200/73257]\n",
            "loss: 0.199495  [64000/73257]\n",
            "Test Error: \n",
            " Accuracy: 90.6%, Avg loss: 0.001253 \n",
            "\n",
            "Epoch 7\n",
            "-------------------------------\n",
            "loss: 0.187033  [    0/73257]\n",
            "loss: 0.118066  [12800/73257]\n",
            "loss: 0.185949  [25600/73257]\n",
            "loss: 0.202621  [38400/73257]\n",
            "loss: 0.175578  [51200/73257]\n",
            "loss: 0.167050  [64000/73257]\n",
            "Test Error: \n",
            " Accuracy: 89.9%, Avg loss: 0.001368 \n",
            "\n",
            "Epoch 8\n",
            "-------------------------------\n",
            "loss: 0.122679  [    0/73257]\n",
            "loss: 0.095878  [12800/73257]\n",
            "loss: 0.181046  [25600/73257]\n",
            "loss: 0.182746  [38400/73257]\n",
            "loss: 0.170494  [51200/73257]\n",
            "loss: 0.121768  [64000/73257]\n",
            "Test Error: \n",
            " Accuracy: 89.5%, Avg loss: 0.001494 \n",
            "\n",
            "Epoch 9\n",
            "-------------------------------\n",
            "loss: 0.151749  [    0/73257]\n",
            "loss: 0.133946  [12800/73257]\n",
            "loss: 0.180455  [25600/73257]\n",
            "loss: 0.192643  [38400/73257]\n",
            "loss: 0.178398  [51200/73257]\n",
            "loss: 0.134889  [64000/73257]\n",
            "Test Error: \n",
            " Accuracy: 91.4%, Avg loss: 0.001285 \n",
            "\n",
            "Epoch 10\n",
            "-------------------------------\n",
            "loss: 0.154060  [    0/73257]\n",
            "loss: 0.205783  [12800/73257]\n",
            "loss: 0.144331  [25600/73257]\n",
            "loss: 0.265270  [38400/73257]\n",
            "loss: 0.195402  [51200/73257]\n",
            "loss: 0.224705  [64000/73257]\n",
            "Test Error: \n",
            " Accuracy: 90.4%, Avg loss: 0.001415 \n",
            "\n",
            "Done!\n"
          ],
          "name": "stdout"
        }
      ]
    },
    {
      "cell_type": "code",
      "metadata": {
        "colab": {
          "base_uri": "https://localhost:8080/",
          "height": 313
        },
        "id": "mAyk7WJrI6SW",
        "outputId": "4b3993c5-e8b8-46c2-c1dc-2dd61d32290a"
      },
      "source": [
        "import matplotlib.pyplot as plt\n",
        "%matplotlib inline\n",
        "\n",
        "plt.plot(range(1, epochs + 1), accuracy1, color='green', marker='o', linestyle='dashed', linewidth = 2, markersize = 12, label = 'Test Accuracy')\n",
        "plt.xlabel('Epochs')\n",
        "plt.ylabel('Test Accuracy')\n",
        "plt.title(\"densenet121 Test Accuracy\")"
      ],
      "execution_count": 6,
      "outputs": [
        {
          "output_type": "execute_result",
          "data": {
            "text/plain": [
              "Text(0.5, 1.0, 'densenet121 Test Accuracy')"
            ]
          },
          "metadata": {
            "tags": []
          },
          "execution_count": 6
        },
        {
          "output_type": "display_data",
          "data": {
            "image/png": "[encoded data removed]",
            "text/plain": [
              "<Figure size 432x288 with 1 Axes>"
            ]
          },
          "metadata": {
            "tags": [],
            "needs_background": "light"
          }
        }
      ]
    },
    {
      "cell_type": "code",
      "metadata": {
        "colab": {
          "base_uri": "https://localhost:8080/",
          "height": 313
        },
        "id": "p8vmtfM_QPOX",
        "outputId": "1b254cf4-1bfe-4d82-de94-7687d68817d8"
      },
      "source": [
        "%matplotlib inline\n",
        "plt.plot(range(1, epochs + 1), loss1, color='blue', marker='o', linestyle='dashed', linewidth = 2, markersize = 12, label = 'Test Loss')\n",
        "plt.xlabel('Epochs')\n",
        "plt.ylabel('Test Loss')\n",
        "plt.title(\"densenet121 Test Loss\")"
      ],
      "execution_count": 7,
      "outputs": [
        {
          "output_type": "execute_result",
          "data": {
            "text/plain": [
              "Text(0.5, 1.0, 'densenet121 Test Loss')"
            ]
          },
          "metadata": {
            "tags": []
          },
          "execution_count": 7
        },
        {
          "output_type": "display_data",
          "data": {
            "image/png": "[encoded data removed]",
            "text/plain": [
              "<Figure size 432x288 with 1 Axes>"
            ]
          },
          "metadata": {
            "tags": [],
            "needs_background": "light"
          }
        }
      ]
    },
    {
      "cell_type": "markdown",
      "metadata": {
        "id": "yV14FgReSlS3"
      },
      "source": [
        "## **[Model 2] densenet169**"
      ]
    },
    {
      "cell_type": "code",
      "metadata": {
        "colab": {
          "base_uri": "https://localhost:8080/"
        },
        "id": "NKdZVDsHL0R1",
        "outputId": "d2269d14-1392-42c7-defc-21a088947ba2"
      },
      "source": [
        "model2 = timm.create_model('densenet169')\n",
        "in_features = model2.classifier.in_features\n",
        "num_class = 10\n",
        "model2.classifier = nn.Sequential(nn.Linear(in_features, 512, bias = True),\n",
        "                                  nn.Linear(512, num_class, bias = True),\n",
        "                                  nn.LogSoftmax(dim=1))\n",
        "\n",
        "model2 = model2.to(device)\n",
        "loss_fn = nn.NLLLoss()\n",
        "optimizer = optim.Adam(model2.parameters(), lr = 0.001)\n",
        "\n",
        "accuracy2 = []\n",
        "loss2 = []\n",
        "\n",
        "epochs = 10\n",
        "\n",
        "for t in range(epochs):\n",
        "  print(f\"Epoch {t+1}\\n-------------------------------\")\n",
        "  model2 = train_loop(train_loader, model2, loss_fn, optimizer)\n",
        "  model2, correct, test_loss = test_loop(test_loader, model2, loss_fn)\n",
        "  accuracy2.append(correct)\n",
        "  loss2.append(test_loss)\n",
        "print(\"Done!\")"
      ],
      "execution_count": 8,
      "outputs": [
        {
          "output_type": "stream",
          "text": [
            "Epoch 1\n",
            "-------------------------------\n",
            "loss: 2.343532  [    0/73257]\n",
            "loss: 2.180961  [12800/73257]\n",
            "loss: 1.534752  [25600/73257]\n",
            "loss: 0.816956  [38400/73257]\n",
            "loss: 0.727940  [51200/73257]\n",
            "loss: 0.714979  [64000/73257]\n",
            "Test Error: \n",
            " Accuracy: 79.8%, Avg loss: 0.002501 \n",
            "\n",
            "Epoch 2\n",
            "-------------------------------\n",
            "loss: 0.607386  [    0/73257]\n",
            "loss: 0.557364  [12800/73257]\n",
            "loss: 0.538116  [25600/73257]\n",
            "loss: 0.351583  [38400/73257]\n",
            "loss: 0.382424  [51200/73257]\n",
            "loss: 0.390209  [64000/73257]\n",
            "Test Error: \n",
            " Accuracy: 84.2%, Avg loss: 0.002026 \n",
            "\n",
            "Epoch 3\n",
            "-------------------------------\n",
            "loss: 0.432202  [    0/73257]\n",
            "loss: 0.341696  [12800/73257]\n",
            "loss: 0.381912  [25600/73257]\n",
            "loss: 0.331614  [38400/73257]\n",
            "loss: 0.331270  [51200/73257]\n",
            "loss: 0.447907  [64000/73257]\n",
            "Test Error: \n",
            " Accuracy: 87.4%, Avg loss: 0.001642 \n",
            "\n",
            "Epoch 4\n",
            "-------------------------------\n",
            "loss: 0.378062  [    0/73257]\n",
            "loss: 0.282918  [12800/73257]\n",
            "loss: 0.300733  [25600/73257]\n",
            "loss: 0.194718  [38400/73257]\n",
            "loss: 0.259591  [51200/73257]\n",
            "loss: 0.280753  [64000/73257]\n",
            "Test Error: \n",
            " Accuracy: 87.8%, Avg loss: 0.001580 \n",
            "\n",
            "Epoch 5\n",
            "-------------------------------\n",
            "loss: 0.278167  [    0/73257]\n",
            "loss: 0.214659  [12800/73257]\n",
            "loss: 0.380875  [25600/73257]\n",
            "loss: 0.228976  [38400/73257]\n",
            "loss: 0.338735  [51200/73257]\n",
            "loss: 0.186769  [64000/73257]\n",
            "Test Error: \n",
            " Accuracy: 89.5%, Avg loss: 0.001376 \n",
            "\n",
            "Epoch 6\n",
            "-------------------------------\n",
            "loss: 0.212795  [    0/73257]\n",
            "loss: 0.293492  [12800/73257]\n",
            "loss: 0.243841  [25600/73257]\n",
            "loss: 0.298798  [38400/73257]\n",
            "loss: 0.246169  [51200/73257]\n",
            "loss: 0.296321  [64000/73257]\n",
            "Test Error: \n",
            " Accuracy: 90.6%, Avg loss: 0.001259 \n",
            "\n",
            "Epoch 7\n",
            "-------------------------------\n",
            "loss: 0.194134  [    0/73257]\n",
            "loss: 0.349321  [12800/73257]\n",
            "loss: 0.166446  [25600/73257]\n",
            "loss: 0.166540  [38400/73257]\n",
            "loss: 0.202359  [51200/73257]\n",
            "loss: 0.228281  [64000/73257]\n",
            "Test Error: \n",
            " Accuracy: 90.7%, Avg loss: 0.001242 \n",
            "\n",
            "Epoch 8\n",
            "-------------------------------\n",
            "loss: 0.157158  [    0/73257]\n",
            "loss: 0.197849  [12800/73257]\n",
            "loss: 0.141594  [25600/73257]\n",
            "loss: 0.156629  [38400/73257]\n",
            "loss: 0.142515  [51200/73257]\n",
            "loss: 0.202639  [64000/73257]\n",
            "Test Error: \n",
            " Accuracy: 91.2%, Avg loss: 0.001196 \n",
            "\n",
            "Epoch 9\n",
            "-------------------------------\n",
            "loss: 0.149618  [    0/73257]\n",
            "loss: 0.115736  [12800/73257]\n",
            "loss: 0.166435  [25600/73257]\n",
            "loss: 0.121043  [38400/73257]\n",
            "loss: 0.207013  [51200/73257]\n",
            "loss: 0.136862  [64000/73257]\n",
            "Test Error: \n",
            " Accuracy: 92.4%, Avg loss: 0.001043 \n",
            "\n",
            "Epoch 10\n",
            "-------------------------------\n",
            "loss: 0.178192  [    0/73257]\n",
            "loss: 0.120128  [12800/73257]\n",
            "loss: 0.129038  [25600/73257]\n",
            "loss: 0.149141  [38400/73257]\n",
            "loss: 0.140862  [51200/73257]\n",
            "loss: 0.168256  [64000/73257]\n",
            "Test Error: \n",
            " Accuracy: 92.1%, Avg loss: 0.001142 \n",
            "\n",
            "Done!\n"
          ],
          "name": "stdout"
        }
      ]
    },
    {
      "cell_type": "code",
      "metadata": {
        "colab": {
          "base_uri": "https://localhost:8080/",
          "height": 313
        },
        "id": "W5hquyMYW2Fs",
        "outputId": "68ee730c-d650-4658-91fa-83a64e43df6c"
      },
      "source": [
        "%matplotlib inline\n",
        "plt.plot(range(1, epochs + 1), accuracy2, color='green', marker='o', linestyle='dashed', linewidth = 2, markersize = 12, label = 'Test Accuracy')\n",
        "plt.xlabel('Epochs')\n",
        "plt.ylabel('Test Accuracy')\n",
        "plt.title(\"densenet169 Test Accuracy\")"
      ],
      "execution_count": 9,
      "outputs": [
        {
          "output_type": "execute_result",
          "data": {
            "text/plain": [
              "Text(0.5, 1.0, 'densenet169 Test Accuracy')"
            ]
          },
          "metadata": {
            "tags": []
          },
          "execution_count": 9
        },
        {
          "output_type": "display_data",
          "data": {
            "image/png": "[encoded data removed]",
            "text/plain": [
              "<Figure size 432x288 with 1 Axes>"
            ]
          },
          "metadata": {
            "tags": [],
            "needs_background": "light"
          }
        }
      ]
    },
    {
      "cell_type": "code",
      "metadata": {
        "colab": {
          "base_uri": "https://localhost:8080/",
          "height": 313
        },
        "id": "bQknmqq8W3Gx",
        "outputId": "b2a0fc00-00d8-45a2-e9cb-67936494572b"
      },
      "source": [
        "%matplotlib inline\n",
        "plt.plot(range(1, epochs + 1), loss2, color='blue', marker='o', linestyle='dashed', linewidth = 2, markersize = 12, label = 'Test Loss')\n",
        "plt.xlabel('Epochs')\n",
        "plt.ylabel('Test Loss')\n",
        "plt.title(\"densenet169 Test Loss\")"
      ],
      "execution_count": 10,
      "outputs": [
        {
          "output_type": "execute_result",
          "data": {
            "text/plain": [
              "Text(0.5, 1.0, 'densenet169 Test Loss')"
            ]
          },
          "metadata": {
            "tags": []
          },
          "execution_count": 10
        },
        {
          "output_type": "display_data",
          "data": {
            "image/png": "[encoded data removed]",
            "text/plain": [
              "<Figure size 432x288 with 1 Axes>"
            ]
          },
          "metadata": {
            "tags": [],
            "needs_background": "light"
          }
        }
      ]
    },
    {
      "cell_type": "markdown",
      "metadata": {
        "id": "opTKK2UISaFk"
      },
      "source": [
        "## **[Model 3] densenet264**"
      ]
    },
    {
      "cell_type": "code",
      "metadata": {
        "colab": {
          "base_uri": "https://localhost:8080/"
        },
        "id": "HeRuYHujL_QT",
        "outputId": "cbc31323-e77f-4531-de5f-94fe78dafd69"
      },
      "source": [
        "model3 = timm.create_model('densenet264')\n",
        "in_features = model3.classifier.in_features\n",
        "num_class = 10\n",
        "model3.classifier = nn.Sequential(nn.Linear(in_features, 512, bias = True),\n",
        "                                  nn.Linear(512, num_class, bias = True),\n",
        "                                  nn.LogSoftmax(dim=1))\n",
        "\n",
        "model3 = model3.to(device)\n",
        "loss_fn = nn.NLLLoss()\n",
        "optimizer = optim.Adam(model3.parameters(), lr = 0.001)\n",
        "\n",
        "accuracy3 = []\n",
        "loss3 = []\n",
        "\n",
        "epochs = 10\n",
        "\n",
        "for t in range(epochs):\n",
        "  print(f\"Epoch {t+1}\\n-------------------------------\")\n",
        "  model3 = train_loop(train_loader, model3, loss_fn, optimizer)\n",
        "  model3, correct, test_loss = test_loop(test_loader, model3, loss_fn)\n",
        "  accuracy3.append(correct)\n",
        "  loss3.append(test_loss)\n",
        "print(\"Done!\")"
      ],
      "execution_count": 11,
      "outputs": [
        {
          "output_type": "stream",
          "text": [
            "Epoch 1\n",
            "-------------------------------\n",
            "loss: 2.341117  [    0/73257]\n",
            "loss: 2.288813  [12800/73257]\n",
            "loss: 2.575576  [25600/73257]\n",
            "loss: 2.144743  [38400/73257]\n",
            "loss: 1.962450  [51200/73257]\n",
            "loss: 1.421082  [64000/73257]\n",
            "Test Error: \n",
            " Accuracy: 48.1%, Avg loss: 0.010507 \n",
            "\n",
            "Epoch 2\n",
            "-------------------------------\n",
            "loss: 1.250801  [    0/73257]\n",
            "loss: 0.969598  [12800/73257]\n",
            "loss: 0.956349  [25600/73257]\n",
            "loss: 0.672221  [38400/73257]\n",
            "loss: 0.659206  [51200/73257]\n",
            "loss: 0.557073  [64000/73257]\n",
            "Test Error: \n",
            " Accuracy: 79.8%, Avg loss: 0.002588 \n",
            "\n",
            "Epoch 3\n",
            "-------------------------------\n",
            "loss: 0.585952  [    0/73257]\n",
            "loss: 0.462352  [12800/73257]\n",
            "loss: 0.366300  [25600/73257]\n",
            "loss: 0.344315  [38400/73257]\n",
            "loss: 0.449148  [51200/73257]\n",
            "loss: 0.526502  [64000/73257]\n",
            "Test Error: \n",
            " Accuracy: 81.3%, Avg loss: 0.002425 \n",
            "\n",
            "Epoch 4\n",
            "-------------------------------\n",
            "loss: 0.505342  [    0/73257]\n",
            "loss: 0.480777  [12800/73257]\n",
            "loss: 0.265576  [25600/73257]\n",
            "loss: 0.407608  [38400/73257]\n",
            "loss: 0.301647  [51200/73257]\n",
            "loss: 0.374805  [64000/73257]\n",
            "Test Error: \n",
            " Accuracy: 88.2%, Avg loss: 0.001821 \n",
            "\n",
            "Epoch 5\n",
            "-------------------------------\n",
            "loss: 0.303661  [    0/73257]\n",
            "loss: 0.535652  [12800/73257]\n",
            "loss: 0.423113  [25600/73257]\n",
            "loss: 0.427135  [38400/73257]\n",
            "loss: 0.328495  [51200/73257]\n",
            "loss: 0.326937  [64000/73257]\n",
            "Test Error: \n",
            " Accuracy: 89.4%, Avg loss: 0.001386 \n",
            "\n",
            "Epoch 6\n",
            "-------------------------------\n",
            "loss: 0.302750  [    0/73257]\n",
            "loss: 0.269010  [12800/73257]\n",
            "loss: 0.338769  [25600/73257]\n",
            "loss: 0.260718  [38400/73257]\n",
            "loss: 0.274331  [51200/73257]\n",
            "loss: 0.251265  [64000/73257]\n",
            "Test Error: \n",
            " Accuracy: 86.4%, Avg loss: 0.002698 \n",
            "\n",
            "Epoch 7\n",
            "-------------------------------\n",
            "loss: 0.404349  [    0/73257]\n",
            "loss: 0.295924  [12800/73257]\n",
            "loss: 0.259109  [25600/73257]\n",
            "loss: 0.294447  [38400/73257]\n",
            "loss: 0.179551  [51200/73257]\n",
            "loss: 0.175686  [64000/73257]\n",
            "Test Error: \n",
            " Accuracy: 91.1%, Avg loss: 0.001201 \n",
            "\n",
            "Epoch 8\n",
            "-------------------------------\n",
            "loss: 0.230487  [    0/73257]\n",
            "loss: 0.184529  [12800/73257]\n",
            "loss: 0.181271  [25600/73257]\n",
            "loss: 0.144374  [38400/73257]\n",
            "loss: 0.243746  [51200/73257]\n",
            "loss: 0.298442  [64000/73257]\n",
            "Test Error: \n",
            " Accuracy: 89.9%, Avg loss: 0.001351 \n",
            "\n",
            "Epoch 9\n",
            "-------------------------------\n",
            "loss: 0.140165  [    0/73257]\n",
            "loss: 0.119448  [12800/73257]\n",
            "loss: 0.180952  [25600/73257]\n",
            "loss: 0.152955  [38400/73257]\n",
            "loss: 0.261202  [51200/73257]\n",
            "loss: 0.209783  [64000/73257]\n",
            "Test Error: \n",
            " Accuracy: 92.0%, Avg loss: 0.001100 \n",
            "\n",
            "Epoch 10\n",
            "-------------------------------\n",
            "loss: 0.139393  [    0/73257]\n",
            "loss: 0.217648  [12800/73257]\n",
            "loss: 0.209133  [25600/73257]\n",
            "loss: 0.237161  [38400/73257]\n",
            "loss: 0.194435  [51200/73257]\n",
            "loss: 0.179920  [64000/73257]\n",
            "Test Error: \n",
            " Accuracy: 92.3%, Avg loss: 0.001064 \n",
            "\n",
            "Done!\n"
          ],
          "name": "stdout"
        }
      ]
    },
    {
      "cell_type": "code",
      "metadata": {
        "colab": {
          "base_uri": "https://localhost:8080/",
          "height": 313
        },
        "id": "ZIXfODAFXCPU",
        "outputId": "ea16848c-70f6-49ec-efb7-ed9c87effdfc"
      },
      "source": [
        "%matplotlib inline\n",
        "plt.plot(range(1, epochs + 1), accuracy3, color='green', marker='o', linestyle='dashed', linewidth = 2, markersize = 12, label = 'Test Accuracy')\n",
        "plt.xlabel('Epochs')\n",
        "plt.ylabel('Test Accuracy')\n",
        "plt.title(\"densenet264 Test Accuracy\")"
      ],
      "execution_count": 12,
      "outputs": [
        {
          "output_type": "execute_result",
          "data": {
            "text/plain": [
              "Text(0.5, 1.0, 'densenet264 Test Accuracy')"
            ]
          },
          "metadata": {
            "tags": []
          },
          "execution_count": 12
        },
        {
          "output_type": "display_data",
          "data": {
            "image/png": "[encoded data removed]",
            "text/plain": [
              "<Figure size 432x288 with 1 Axes>"
            ]
          },
          "metadata": {
            "tags": [],
            "needs_background": "light"
          }
        }
      ]
    },
    {
      "cell_type": "code",
      "metadata": {
        "colab": {
          "base_uri": "https://localhost:8080/",
          "height": 313
        },
        "id": "VsvQTs9BXC2G",
        "outputId": "90c540bd-8c65-4095-e408-6255f8503089"
      },
      "source": [
        "%matplotlib inline\n",
        "plt.plot(range(1, epochs + 1), loss3, color='blue', marker='o', linestyle='dashed', linewidth = 2, markersize = 12, label = 'Test Loss')\n",
        "plt.xlabel('Epochs')\n",
        "plt.ylabel('Test Loss')\n",
        "plt.title(\"densenet264 Test Loss\")"
      ],
      "execution_count": 13,
      "outputs": [
        {
          "output_type": "execute_result",
          "data": {
            "text/plain": [
              "Text(0.5, 1.0, 'densenet264 Test Loss')"
            ]
          },
          "metadata": {
            "tags": []
          },
          "execution_count": 13
        },
        {
          "output_type": "display_data",
          "data": {
            "image/png": "[encoded data removed]",
            "text/plain": [
              "<Figure size 432x288 with 1 Axes>"
            ]
          },
          "metadata": {
            "tags": [],
            "needs_background": "light"
          }
        }
      ]
    },
    {
      "cell_type": "markdown",
      "metadata": {
        "id": "wOd3C23ggN8E"
      },
      "source": [
        "# **Summary**\n",
        "\n",
        "1. **densenet121:** 90.4% test accuracy in 10 epochs.\n",
        "2. **densenet169:** 92.1% test accuracy in 10 epochs.\n",
        "3. **densenet264:** 92.3% test accuracy in 10 epochs.\n",
        "\n",
        "\n",
        "\n",
        "\n"
      ]
    }
  ]
}